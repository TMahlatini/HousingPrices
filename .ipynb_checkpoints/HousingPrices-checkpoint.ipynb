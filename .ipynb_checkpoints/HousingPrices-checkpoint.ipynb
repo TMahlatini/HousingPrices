{
 "cells": [
  {
   "cell_type": "code",
   "execution_count": 198,
   "id": "4cf516bb",
   "metadata": {},
   "outputs": [],
   "source": [
    "import pandas as pd\n",
    "import statsmodels.api as sm\n",
    "import numpy as np\n",
    "import pandas as pd\n",
    "import matplotlib.pyplot as plt\n",
    "from sklearn import preprocessing"
   ]
  },
  {
   "cell_type": "markdown",
   "id": "8e43614c",
   "metadata": {},
   "source": [
    "## Data Exploration "
   ]
  },
  {
   "cell_type": "code",
   "execution_count": 199,
   "id": "7153dfd9",
   "metadata": {},
   "outputs": [],
   "source": [
    "dataset = pd.read_csv(\"Housing.csv\")\n"
   ]
  },
  {
   "cell_type": "code",
   "execution_count": 200,
   "id": "091c6641",
   "metadata": {},
   "outputs": [
    {
     "data": {
      "text/html": [
       "<div>\n",
       "<style scoped>\n",
       "    .dataframe tbody tr th:only-of-type {\n",
       "        vertical-align: middle;\n",
       "    }\n",
       "\n",
       "    .dataframe tbody tr th {\n",
       "        vertical-align: top;\n",
       "    }\n",
       "\n",
       "    .dataframe thead th {\n",
       "        text-align: right;\n",
       "    }\n",
       "</style>\n",
       "<table border=\"1\" class=\"dataframe\">\n",
       "  <thead>\n",
       "    <tr style=\"text-align: right;\">\n",
       "      <th></th>\n",
       "      <th>price</th>\n",
       "      <th>area</th>\n",
       "      <th>bedrooms</th>\n",
       "      <th>bathrooms</th>\n",
       "      <th>stories</th>\n",
       "      <th>mainroad</th>\n",
       "      <th>guestroom</th>\n",
       "      <th>basement</th>\n",
       "      <th>hotwaterheating</th>\n",
       "      <th>airconditioning</th>\n",
       "      <th>parking</th>\n",
       "      <th>prefarea</th>\n",
       "      <th>furnishingstatus</th>\n",
       "    </tr>\n",
       "  </thead>\n",
       "  <tbody>\n",
       "    <tr>\n",
       "      <th>0</th>\n",
       "      <td>13300000</td>\n",
       "      <td>7420</td>\n",
       "      <td>4</td>\n",
       "      <td>2</td>\n",
       "      <td>3</td>\n",
       "      <td>yes</td>\n",
       "      <td>no</td>\n",
       "      <td>no</td>\n",
       "      <td>no</td>\n",
       "      <td>yes</td>\n",
       "      <td>2</td>\n",
       "      <td>yes</td>\n",
       "      <td>furnished</td>\n",
       "    </tr>\n",
       "    <tr>\n",
       "      <th>1</th>\n",
       "      <td>12250000</td>\n",
       "      <td>8960</td>\n",
       "      <td>4</td>\n",
       "      <td>4</td>\n",
       "      <td>4</td>\n",
       "      <td>yes</td>\n",
       "      <td>no</td>\n",
       "      <td>no</td>\n",
       "      <td>no</td>\n",
       "      <td>yes</td>\n",
       "      <td>3</td>\n",
       "      <td>no</td>\n",
       "      <td>furnished</td>\n",
       "    </tr>\n",
       "    <tr>\n",
       "      <th>2</th>\n",
       "      <td>12250000</td>\n",
       "      <td>9960</td>\n",
       "      <td>3</td>\n",
       "      <td>2</td>\n",
       "      <td>2</td>\n",
       "      <td>yes</td>\n",
       "      <td>no</td>\n",
       "      <td>yes</td>\n",
       "      <td>no</td>\n",
       "      <td>no</td>\n",
       "      <td>2</td>\n",
       "      <td>yes</td>\n",
       "      <td>semi-furnished</td>\n",
       "    </tr>\n",
       "  </tbody>\n",
       "</table>\n",
       "</div>"
      ],
      "text/plain": [
       "      price  area  bedrooms  bathrooms  stories mainroad guestroom basement  \\\n",
       "0  13300000  7420         4          2        3      yes        no       no   \n",
       "1  12250000  8960         4          4        4      yes        no       no   \n",
       "2  12250000  9960         3          2        2      yes        no      yes   \n",
       "\n",
       "  hotwaterheating airconditioning  parking prefarea furnishingstatus  \n",
       "0              no             yes        2      yes        furnished  \n",
       "1              no             yes        3       no        furnished  \n",
       "2              no              no        2      yes   semi-furnished  "
      ]
     },
     "execution_count": 200,
     "metadata": {},
     "output_type": "execute_result"
    }
   ],
   "source": [
    "dataset.head(3)"
   ]
  },
  {
   "cell_type": "code",
   "execution_count": 201,
   "id": "47c1b202",
   "metadata": {},
   "outputs": [],
   "source": [
    "## Swapping price and furnishingStatus columns \n",
    "colList = list(dataset.columns)\n",
    "colList[0], colList[-1] =  colList[-1], colList[0]\n",
    "dataset = dataset[colList]"
   ]
  },
  {
   "cell_type": "code",
   "execution_count": 202,
   "id": "352bb963",
   "metadata": {},
   "outputs": [
    {
     "data": {
      "text/html": [
       "<div>\n",
       "<style scoped>\n",
       "    .dataframe tbody tr th:only-of-type {\n",
       "        vertical-align: middle;\n",
       "    }\n",
       "\n",
       "    .dataframe tbody tr th {\n",
       "        vertical-align: top;\n",
       "    }\n",
       "\n",
       "    .dataframe thead th {\n",
       "        text-align: right;\n",
       "    }\n",
       "</style>\n",
       "<table border=\"1\" class=\"dataframe\">\n",
       "  <thead>\n",
       "    <tr style=\"text-align: right;\">\n",
       "      <th></th>\n",
       "      <th>furnishingstatus</th>\n",
       "      <th>area</th>\n",
       "      <th>bedrooms</th>\n",
       "      <th>bathrooms</th>\n",
       "      <th>stories</th>\n",
       "      <th>mainroad</th>\n",
       "      <th>guestroom</th>\n",
       "      <th>basement</th>\n",
       "      <th>hotwaterheating</th>\n",
       "      <th>airconditioning</th>\n",
       "      <th>parking</th>\n",
       "      <th>prefarea</th>\n",
       "      <th>price</th>\n",
       "    </tr>\n",
       "  </thead>\n",
       "  <tbody>\n",
       "    <tr>\n",
       "      <th>0</th>\n",
       "      <td>furnished</td>\n",
       "      <td>7420</td>\n",
       "      <td>4</td>\n",
       "      <td>2</td>\n",
       "      <td>3</td>\n",
       "      <td>yes</td>\n",
       "      <td>no</td>\n",
       "      <td>no</td>\n",
       "      <td>no</td>\n",
       "      <td>yes</td>\n",
       "      <td>2</td>\n",
       "      <td>yes</td>\n",
       "      <td>13300000</td>\n",
       "    </tr>\n",
       "    <tr>\n",
       "      <th>1</th>\n",
       "      <td>furnished</td>\n",
       "      <td>8960</td>\n",
       "      <td>4</td>\n",
       "      <td>4</td>\n",
       "      <td>4</td>\n",
       "      <td>yes</td>\n",
       "      <td>no</td>\n",
       "      <td>no</td>\n",
       "      <td>no</td>\n",
       "      <td>yes</td>\n",
       "      <td>3</td>\n",
       "      <td>no</td>\n",
       "      <td>12250000</td>\n",
       "    </tr>\n",
       "    <tr>\n",
       "      <th>2</th>\n",
       "      <td>semi-furnished</td>\n",
       "      <td>9960</td>\n",
       "      <td>3</td>\n",
       "      <td>2</td>\n",
       "      <td>2</td>\n",
       "      <td>yes</td>\n",
       "      <td>no</td>\n",
       "      <td>yes</td>\n",
       "      <td>no</td>\n",
       "      <td>no</td>\n",
       "      <td>2</td>\n",
       "      <td>yes</td>\n",
       "      <td>12250000</td>\n",
       "    </tr>\n",
       "  </tbody>\n",
       "</table>\n",
       "</div>"
      ],
      "text/plain": [
       "  furnishingstatus  area  bedrooms  bathrooms  stories mainroad guestroom  \\\n",
       "0        furnished  7420         4          2        3      yes        no   \n",
       "1        furnished  8960         4          4        4      yes        no   \n",
       "2   semi-furnished  9960         3          2        2      yes        no   \n",
       "\n",
       "  basement hotwaterheating airconditioning  parking prefarea     price  \n",
       "0       no              no             yes        2      yes  13300000  \n",
       "1       no              no             yes        3       no  12250000  \n",
       "2      yes              no              no        2      yes  12250000  "
      ]
     },
     "execution_count": 202,
     "metadata": {},
     "output_type": "execute_result"
    }
   ],
   "source": [
    "dataset.head(3)"
   ]
  },
  {
   "cell_type": "code",
   "execution_count": 203,
   "id": "f1e2d614",
   "metadata": {},
   "outputs": [
    {
     "name": "stdout",
     "output_type": "stream",
     "text": [
      "<class 'pandas.core.frame.DataFrame'>\n",
      "RangeIndex: 545 entries, 0 to 544\n",
      "Data columns (total 13 columns):\n",
      " #   Column            Non-Null Count  Dtype \n",
      "---  ------            --------------  ----- \n",
      " 0   furnishingstatus  545 non-null    object\n",
      " 1   area              545 non-null    int64 \n",
      " 2   bedrooms          545 non-null    int64 \n",
      " 3   bathrooms         545 non-null    int64 \n",
      " 4   stories           545 non-null    int64 \n",
      " 5   mainroad          545 non-null    object\n",
      " 6   guestroom         545 non-null    object\n",
      " 7   basement          545 non-null    object\n",
      " 8   hotwaterheating   545 non-null    object\n",
      " 9   airconditioning   545 non-null    object\n",
      " 10  parking           545 non-null    int64 \n",
      " 11  prefarea          545 non-null    object\n",
      " 12  price             545 non-null    int64 \n",
      "dtypes: int64(6), object(7)\n",
      "memory usage: 55.5+ KB\n"
     ]
    }
   ],
   "source": [
    "dataset.info()"
   ]
  },
  {
   "cell_type": "code",
   "execution_count": 204,
   "id": "a0ca190a",
   "metadata": {},
   "outputs": [
    {
     "data": {
      "text/plain": [
       "3"
      ]
     },
     "execution_count": 204,
     "metadata": {},
     "output_type": "execute_result"
    }
   ],
   "source": [
    "dataset.furnishingstatus.nunique()"
   ]
  },
  {
   "cell_type": "code",
   "execution_count": 205,
   "id": "43a6771c",
   "metadata": {},
   "outputs": [
    {
     "data": {
      "text/plain": [
       "semi-furnished    227\n",
       "unfurnished       178\n",
       "furnished         140\n",
       "Name: furnishingstatus, dtype: int64"
      ]
     },
     "execution_count": 205,
     "metadata": {},
     "output_type": "execute_result"
    }
   ],
   "source": [
    "dataset.furnishingstatus.value_counts()"
   ]
  },
  {
   "cell_type": "code",
   "execution_count": 206,
   "id": "76001d54",
   "metadata": {},
   "outputs": [
    {
     "data": {
      "text/plain": [
       "4"
      ]
     },
     "execution_count": 206,
     "metadata": {},
     "output_type": "execute_result"
    }
   ],
   "source": [
    "dataset.parking.nunique()"
   ]
  },
  {
   "cell_type": "code",
   "execution_count": 207,
   "id": "9e2b2cca",
   "metadata": {},
   "outputs": [
    {
     "data": {
      "text/plain": [
       "['furnishingstatus',\n",
       " 'area',\n",
       " 'bedrooms',\n",
       " 'bathrooms',\n",
       " 'stories',\n",
       " 'mainroad',\n",
       " 'guestroom',\n",
       " 'basement',\n",
       " 'hotwaterheating',\n",
       " 'airconditioning',\n",
       " 'parking',\n",
       " 'prefarea',\n",
       " 'price']"
      ]
     },
     "execution_count": 207,
     "metadata": {},
     "output_type": "execute_result"
    }
   ],
   "source": [
    "dataset.columns.tolist()"
   ]
  },
  {
   "cell_type": "code",
   "execution_count": 208,
   "id": "59d8398f",
   "metadata": {},
   "outputs": [
    {
     "data": {
      "image/png": "[encoded data removed]",
      "text/plain": [
       "<Figure size 432x288 with 1 Axes>"
      ]
     },
     "metadata": {
      "needs_background": "light"
     },
     "output_type": "display_data"
    },
    {
     "data": {
      "image/png": "[encoded data removed]",
      "text/plain": [
       "<Figure size 432x288 with 1 Axes>"
      ]
     },
     "metadata": {
      "needs_background": "light"
     },
     "output_type": "display_data"
    },
    {
     "data": {
      "image/png": "[encoded data removed]",
      "text/plain": [
       "<Figure size 432x288 with 1 Axes>"
      ]
     },
     "metadata": {
      "needs_background": "light"
     },
     "output_type": "display_data"
    },
    {
     "data": {
      "image/png": "[encoded data removed]",
      "text/plain": [
       "<Figure size 432x288 with 1 Axes>"
      ]
     },
     "metadata": {
      "needs_background": "light"
     },
     "output_type": "display_data"
    },
    {
     "data": {
      "image/png": "[encoded data removed]",
      "text/plain": [
       "<Figure size 432x288 with 1 Axes>"
      ]
     },
     "metadata": {
      "needs_background": "light"
     },
     "output_type": "display_data"
    },
    {
     "data": {
      "image/png": "[encoded data removed]",
      "text/plain": [
       "<Figure size 432x288 with 1 Axes>"
      ]
     },
     "metadata": {
      "needs_background": "light"
     },
     "output_type": "display_data"
    },
    {
     "data": {
      "image/png": "[encoded data removed]",
      "text/plain": [
       "<Figure size 432x288 with 1 Axes>"
      ]
     },
     "metadata": {
      "needs_background": "light"
     },
     "output_type": "display_data"
    },
    {
     "data": {
      "image/png": "[encoded data removed]",
      "text/plain": [
       "<Figure size 432x288 with 1 Axes>"
      ]
     },
     "metadata": {
      "needs_background": "light"
     },
     "output_type": "display_data"
    },
    {
     "data": {
      "image/png": "[encoded data removed]",
      "text/plain": [
       "<Figure size 432x288 with 1 Axes>"
      ]
     },
     "metadata": {
      "needs_background": "light"
     },
     "output_type": "display_data"
    },
    {
     "data": {
      "image/png": "[encoded data removed]",
      "text/plain": [
       "<Figure size 432x288 with 1 Axes>"
      ]
     },
     "metadata": {
      "needs_background": "light"
     },
     "output_type": "display_data"
    },
    {
     "data": {
      "image/png": "[encoded data removed]",
      "text/plain": [
       "<Figure size 432x288 with 1 Axes>"
      ]
     },
     "metadata": {
      "needs_background": "light"
     },
     "output_type": "display_data"
    },
    {
     "data": {
      "image/png": "[encoded data removed]",
      "text/plain": [
       "<Figure size 432x288 with 1 Axes>"
      ]
     },
     "metadata": {
      "needs_background": "light"
     },
     "output_type": "display_data"
    }
   ],
   "source": [
    "for column in dataset.columns.tolist():\n",
    "    if column == 'price':\n",
    "        continue\n",
    "    if column == \"area\":\n",
    "        plt.scatter(dataset[column], dataset['price'])\n",
    "        plt.title(column)\n",
    "        plt.xlabel(column)\n",
    "        plt.ylabel('price')\n",
    "        plt.show()\n",
    "    else:\n",
    "        plt.bar(dataset[column], dataset['price'])    \n",
    "        plt.title(column)\n",
    "        plt.xlabel(column)\n",
    "        plt.ylabel('price')\n",
    "        plt.tight_layout()\n",
    "        plt.show()"
   ]
  },
  {
   "cell_type": "code",
   "execution_count": 209,
   "id": "46860619",
   "metadata": {},
   "outputs": [
    {
     "data": {
      "text/html": [
       "<div>\n",
       "<style scoped>\n",
       "    .dataframe tbody tr th:only-of-type {\n",
       "        vertical-align: middle;\n",
       "    }\n",
       "\n",
       "    .dataframe tbody tr th {\n",
       "        vertical-align: top;\n",
       "    }\n",
       "\n",
       "    .dataframe thead th {\n",
       "        text-align: right;\n",
       "    }\n",
       "</style>\n",
       "<table border=\"1\" class=\"dataframe\">\n",
       "  <thead>\n",
       "    <tr style=\"text-align: right;\">\n",
       "      <th></th>\n",
       "      <th>furnishingstatus</th>\n",
       "      <th>area</th>\n",
       "      <th>bedrooms</th>\n",
       "      <th>bathrooms</th>\n",
       "      <th>stories</th>\n",
       "      <th>mainroad</th>\n",
       "      <th>guestroom</th>\n",
       "      <th>basement</th>\n",
       "      <th>hotwaterheating</th>\n",
       "      <th>airconditioning</th>\n",
       "      <th>parking</th>\n",
       "      <th>prefarea</th>\n",
       "      <th>price</th>\n",
       "    </tr>\n",
       "  </thead>\n",
       "  <tbody>\n",
       "    <tr>\n",
       "      <th>0</th>\n",
       "      <td>0</td>\n",
       "      <td>7420</td>\n",
       "      <td>4</td>\n",
       "      <td>2</td>\n",
       "      <td>3</td>\n",
       "      <td>1</td>\n",
       "      <td>0</td>\n",
       "      <td>0</td>\n",
       "      <td>0</td>\n",
       "      <td>1</td>\n",
       "      <td>2</td>\n",
       "      <td>1</td>\n",
       "      <td>13300000</td>\n",
       "    </tr>\n",
       "    <tr>\n",
       "      <th>1</th>\n",
       "      <td>0</td>\n",
       "      <td>8960</td>\n",
       "      <td>4</td>\n",
       "      <td>4</td>\n",
       "      <td>4</td>\n",
       "      <td>1</td>\n",
       "      <td>0</td>\n",
       "      <td>0</td>\n",
       "      <td>0</td>\n",
       "      <td>1</td>\n",
       "      <td>3</td>\n",
       "      <td>0</td>\n",
       "      <td>12250000</td>\n",
       "    </tr>\n",
       "    <tr>\n",
       "      <th>2</th>\n",
       "      <td>1</td>\n",
       "      <td>9960</td>\n",
       "      <td>3</td>\n",
       "      <td>2</td>\n",
       "      <td>2</td>\n",
       "      <td>1</td>\n",
       "      <td>0</td>\n",
       "      <td>1</td>\n",
       "      <td>0</td>\n",
       "      <td>0</td>\n",
       "      <td>2</td>\n",
       "      <td>1</td>\n",
       "      <td>12250000</td>\n",
       "    </tr>\n",
       "  </tbody>\n",
       "</table>\n",
       "</div>"
      ],
      "text/plain": [
       "   furnishingstatus  area  bedrooms  bathrooms  stories  mainroad  guestroom  \\\n",
       "0                 0  7420         4          2        3         1          0   \n",
       "1                 0  8960         4          4        4         1          0   \n",
       "2                 1  9960         3          2        2         1          0   \n",
       "\n",
       "   basement  hotwaterheating  airconditioning  parking  prefarea     price  \n",
       "0         0                0                1        2         1  13300000  \n",
       "1         0                0                1        3         0  12250000  \n",
       "2         1                0                0        2         1  12250000  "
      ]
     },
     "execution_count": 209,
     "metadata": {},
     "output_type": "execute_result"
    }
   ],
   "source": [
    "from sklearn.preprocessing import LabelEncoder\n",
    "lable_encoder = LabelEncoder()\n",
    "for column in dataset.columns.tolist():\n",
    "    if dataset[column].dtype != 'int64':\n",
    "        dataset[column] = lable_encoder.fit_transform(dataset[column])\n",
    "dataset.head(3)"
   ]
  },
  {
   "cell_type": "code",
   "execution_count": 210,
   "id": "0b845954",
   "metadata": {},
   "outputs": [],
   "source": [
    "X = dataset.drop(\"price\", axis=1)\n",
    "y = dataset[\"price\"]"
   ]
  },
  {
   "cell_type": "code",
   "execution_count": 211,
   "id": "89482356",
   "metadata": {},
   "outputs": [
    {
     "data": {
      "text/html": [
       "<div>\n",
       "<style scoped>\n",
       "    .dataframe tbody tr th:only-of-type {\n",
       "        vertical-align: middle;\n",
       "    }\n",
       "\n",
       "    .dataframe tbody tr th {\n",
       "        vertical-align: top;\n",
       "    }\n",
       "\n",
       "    .dataframe thead th {\n",
       "        text-align: right;\n",
       "    }\n",
       "</style>\n",
       "<table border=\"1\" class=\"dataframe\">\n",
       "  <thead>\n",
       "    <tr style=\"text-align: right;\">\n",
       "      <th></th>\n",
       "      <th>const</th>\n",
       "      <th>area</th>\n",
       "      <th>bedrooms</th>\n",
       "      <th>bathrooms</th>\n",
       "      <th>stories</th>\n",
       "      <th>mainroad</th>\n",
       "      <th>guestroom</th>\n",
       "      <th>basement</th>\n",
       "      <th>hotwaterheating</th>\n",
       "      <th>airconditioning</th>\n",
       "      <th>parking</th>\n",
       "      <th>prefarea</th>\n",
       "    </tr>\n",
       "  </thead>\n",
       "  <tbody>\n",
       "    <tr>\n",
       "      <th>0</th>\n",
       "      <td>1.0</td>\n",
       "      <td>7420</td>\n",
       "      <td>4</td>\n",
       "      <td>2</td>\n",
       "      <td>3</td>\n",
       "      <td>1</td>\n",
       "      <td>0</td>\n",
       "      <td>0</td>\n",
       "      <td>0</td>\n",
       "      <td>1</td>\n",
       "      <td>2</td>\n",
       "      <td>1</td>\n",
       "    </tr>\n",
       "    <tr>\n",
       "      <th>1</th>\n",
       "      <td>1.0</td>\n",
       "      <td>8960</td>\n",
       "      <td>4</td>\n",
       "      <td>4</td>\n",
       "      <td>4</td>\n",
       "      <td>1</td>\n",
       "      <td>0</td>\n",
       "      <td>0</td>\n",
       "      <td>0</td>\n",
       "      <td>1</td>\n",
       "      <td>3</td>\n",
       "      <td>0</td>\n",
       "    </tr>\n",
       "    <tr>\n",
       "      <th>2</th>\n",
       "      <td>1.0</td>\n",
       "      <td>9960</td>\n",
       "      <td>3</td>\n",
       "      <td>2</td>\n",
       "      <td>2</td>\n",
       "      <td>1</td>\n",
       "      <td>0</td>\n",
       "      <td>1</td>\n",
       "      <td>0</td>\n",
       "      <td>0</td>\n",
       "      <td>2</td>\n",
       "      <td>1</td>\n",
       "    </tr>\n",
       "  </tbody>\n",
       "</table>\n",
       "</div>"
      ],
      "text/plain": [
       "   const  area  bedrooms  bathrooms  stories  mainroad  guestroom  basement  \\\n",
       "0    1.0  7420         4          2        3         1          0         0   \n",
       "1    1.0  8960         4          4        4         1          0         0   \n",
       "2    1.0  9960         3          2        2         1          0         1   \n",
       "\n",
       "   hotwaterheating  airconditioning  parking  prefarea  \n",
       "0                0                1        2         1  \n",
       "1                0                1        3         0  \n",
       "2                0                0        2         1  "
      ]
     },
     "execution_count": 211,
     "metadata": {},
     "output_type": "execute_result"
    }
   ],
   "source": [
    "X = sm.add_constant(dataset[['area', 'bedrooms', 'bathrooms', 'stories', 'mainroad', 'guestroom', 'basement', 'hotwaterheating', 'airconditioning', 'parking', 'prefarea']])\n",
    "X.head(3)"
   ]
  },
  {
   "cell_type": "markdown",
   "id": "214d6f88",
   "metadata": {},
   "source": [
    "## Multilple Linear Regression Model"
   ]
  },
  {
   "cell_type": "code",
   "execution_count": 212,
   "id": "ec9cd801",
   "metadata": {},
   "outputs": [],
   "source": [
    "from sklearn.model_selection import train_test_split\n",
    "X_train, X_test, y_train, y_test = train_test_split(X, y, test_size=0.2, random_state=42)"
   ]
  },
  {
   "cell_type": "code",
   "execution_count": 213,
   "id": "2907495b",
   "metadata": {},
   "outputs": [
    {
     "name": "stdout",
     "output_type": "stream",
     "text": [
      "                            OLS Regression Results                            \n",
      "==============================================================================\n",
      "Dep. Variable:                  price   R-squared:                       0.678\n",
      "Model:                            OLS   Adj. R-squared:                  0.670\n",
      "Method:                 Least Squares   F-statistic:                     81.21\n",
      "Date:                Wed, 14 Feb 2024   Prob (F-statistic):           4.48e-97\n",
      "Time:                        17:56:40   Log-Likelihood:                -6640.6\n",
      "No. Observations:                 436   AIC:                         1.331e+04\n",
      "Df Residuals:                     424   BIC:                         1.335e+04\n",
      "Df Model:                          11                                         \n",
      "Covariance Type:            nonrobust                                         \n",
      "===================================================================================\n",
      "                      coef    std err          t      P>|t|      [0.025      0.975]\n",
      "-----------------------------------------------------------------------------------\n",
      "const           -7.243e+04   2.47e+05     -0.293      0.770   -5.59e+05    4.14e+05\n",
      "area              237.7105     25.144      9.454      0.000     188.288     287.133\n",
      "bedrooms         7.848e+04   7.61e+04      1.031      0.303   -7.11e+04    2.28e+05\n",
      "bathrooms        1.109e+06   1.15e+05      9.608      0.000    8.82e+05    1.34e+06\n",
      "stories          4.269e+05   6.92e+04      6.170      0.000    2.91e+05    5.63e+05\n",
      "mainroad         4.127e+05    1.5e+05      2.750      0.006    1.18e+05    7.08e+05\n",
      "guestroom        2.436e+05   1.42e+05      1.716      0.087   -3.54e+04    5.23e+05\n",
      "basement          4.35e+05   1.18e+05      3.690      0.000    2.03e+05    6.67e+05\n",
      "hotwaterheating  7.123e+05   2.25e+05      3.165      0.002     2.7e+05    1.15e+06\n",
      "airconditioning  8.084e+05   1.18e+05      6.876      0.000    5.77e+05    1.04e+06\n",
      "parking          2.474e+05    6.2e+04      3.990      0.000    1.26e+05    3.69e+05\n",
      "prefarea         6.368e+05   1.22e+05      5.211      0.000    3.97e+05    8.77e+05\n",
      "==============================================================================\n",
      "Omnibus:                       72.064   Durbin-Watson:                   1.893\n",
      "Prob(Omnibus):                  0.000   Jarque-Bera (JB):              187.623\n",
      "Skew:                           0.810   Prob(JB):                     1.81e-41\n",
      "Kurtosis:                       5.775   Cond. No.                     3.05e+04\n",
      "==============================================================================\n",
      "\n",
      "Notes:\n",
      "[1] Standard Errors assume that the covariance matrix of the errors is correctly specified.\n",
      "[2] The condition number is large, 3.05e+04. This might indicate that there are\n",
      "strong multicollinearity or other numerical problems.\n"
     ]
    }
   ],
   "source": [
    "\n",
    "model = sm.OLS(y_train, X_train).fit()\n",
    "Y_pred = model.predict(X_test)\n",
    "print(model.summary())\n"
   ]
  },
  {
   "cell_type": "code",
   "execution_count": 214,
   "id": "6f264eeb",
   "metadata": {},
   "outputs": [
    {
     "name": "stdout",
     "output_type": "stream",
     "text": [
      "Mean Absolute Error: 979112.2162187381\n",
      "Mean Squared Error: 1800793719718.9749\n",
      "Root Mean Squared Error: 1341936.5557726545\n"
     ]
    }
   ],
   "source": [
    "from sklearn import metrics \n",
    "print('Mean Absolute Error:', metrics.mean_absolute_error(y_test, Y_pred))\n",
    "print('Mean Squared Error:', metrics.mean_squared_error(y_test, Y_pred))\n",
    "print('Root Mean Squared Error:', np.sqrt(metrics.mean_squared_error(y_test, Y_pred)))\n",
    "\n"
   ]
  },
  {
   "cell_type": "code",
   "execution_count": 215,
   "id": "4f838efe",
   "metadata": {},
   "outputs": [],
   "source": [
    "model0_rsquared = model.rsquared\n",
    "model0_rsquared_adj = model.rsquared_adj\n",
    "model0_pvalues = model.pvalues\n",
    "model0_MSE = metrics.mean_squared_error(y_test, Y_pred)"
   ]
  },
  {
   "cell_type": "markdown",
   "id": "7b1d8d3f",
   "metadata": {},
   "source": [
    "#     Backward Elimination"
   ]
  },
  {
   "cell_type": "markdown",
   "id": "b81b4f04",
   "metadata": {},
   "source": [
    "Before implementing backward elimination I am going to iterate over the X dataset and drop each column and see if the r_sqrd or r_sqrd_Adj increases. If it does, I will flag the column as non significant. If there is no flagged column at the end of the for loop then that means we can't drop any of the columns to continue with backward elimination. "
   ]
  },
  {
   "cell_type": "code",
   "execution_count": 216,
   "id": "60b75da4",
   "metadata": {},
   "outputs": [
    {
     "data": {
      "text/html": [
       "<div>\n",
       "<style scoped>\n",
       "    .dataframe tbody tr th:only-of-type {\n",
       "        vertical-align: middle;\n",
       "    }\n",
       "\n",
       "    .dataframe tbody tr th {\n",
       "        vertical-align: top;\n",
       "    }\n",
       "\n",
       "    .dataframe thead th {\n",
       "        text-align: right;\n",
       "    }\n",
       "</style>\n",
       "<table border=\"1\" class=\"dataframe\">\n",
       "  <thead>\n",
       "    <tr style=\"text-align: right;\">\n",
       "      <th></th>\n",
       "      <th>const</th>\n",
       "      <th>area</th>\n",
       "      <th>bedrooms</th>\n",
       "      <th>bathrooms</th>\n",
       "      <th>stories</th>\n",
       "      <th>mainroad</th>\n",
       "      <th>guestroom</th>\n",
       "      <th>basement</th>\n",
       "      <th>hotwaterheating</th>\n",
       "      <th>airconditioning</th>\n",
       "      <th>parking</th>\n",
       "      <th>prefarea</th>\n",
       "    </tr>\n",
       "  </thead>\n",
       "  <tbody>\n",
       "    <tr>\n",
       "      <th>0</th>\n",
       "      <td>1.0</td>\n",
       "      <td>7420</td>\n",
       "      <td>4</td>\n",
       "      <td>2</td>\n",
       "      <td>3</td>\n",
       "      <td>1</td>\n",
       "      <td>0</td>\n",
       "      <td>0</td>\n",
       "      <td>0</td>\n",
       "      <td>1</td>\n",
       "      <td>2</td>\n",
       "      <td>1</td>\n",
       "    </tr>\n",
       "    <tr>\n",
       "      <th>1</th>\n",
       "      <td>1.0</td>\n",
       "      <td>8960</td>\n",
       "      <td>4</td>\n",
       "      <td>4</td>\n",
       "      <td>4</td>\n",
       "      <td>1</td>\n",
       "      <td>0</td>\n",
       "      <td>0</td>\n",
       "      <td>0</td>\n",
       "      <td>1</td>\n",
       "      <td>3</td>\n",
       "      <td>0</td>\n",
       "    </tr>\n",
       "    <tr>\n",
       "      <th>2</th>\n",
       "      <td>1.0</td>\n",
       "      <td>9960</td>\n",
       "      <td>3</td>\n",
       "      <td>2</td>\n",
       "      <td>2</td>\n",
       "      <td>1</td>\n",
       "      <td>0</td>\n",
       "      <td>1</td>\n",
       "      <td>0</td>\n",
       "      <td>0</td>\n",
       "      <td>2</td>\n",
       "      <td>1</td>\n",
       "    </tr>\n",
       "  </tbody>\n",
       "</table>\n",
       "</div>"
      ],
      "text/plain": [
       "   const  area  bedrooms  bathrooms  stories  mainroad  guestroom  basement  \\\n",
       "0    1.0  7420         4          2        3         1          0         0   \n",
       "1    1.0  8960         4          4        4         1          0         0   \n",
       "2    1.0  9960         3          2        2         1          0         1   \n",
       "\n",
       "   hotwaterheating  airconditioning  parking  prefarea  \n",
       "0                0                1        2         1  \n",
       "1                0                1        3         0  \n",
       "2                0                0        2         1  "
      ]
     },
     "execution_count": 216,
     "metadata": {},
     "output_type": "execute_result"
    }
   ],
   "source": [
    "X.head(3)"
   ]
  },
  {
   "cell_type": "code",
   "execution_count": 217,
   "id": "18411c72",
   "metadata": {},
   "outputs": [
    {
     "name": "stdout",
     "output_type": "stream",
     "text": [
      "Column area is not significant evaluating based on MSE\n",
      "Column bedrooms is not significant evaluating based on MSE\n",
      "Column bathrooms is not significant evaluating based on MSE\n",
      "Column stories is not significant evaluating based on MSE\n",
      "Column mainroad is not significant evaluating based on MSE\n",
      "Column guestroom is not significant evaluating based on MSE\n",
      "Column basement is not significant evaluating based on MSE\n",
      "Column hotwaterheating is not significant evaluating based on MSE\n",
      "Column airconditioning is not significant evaluating based on MSE\n",
      "Column parking is not significant evaluating based on MSE\n",
      "Column prefarea is not significant evaluating based on MSE\n"
     ]
    }
   ],
   "source": [
    "\n",
    "for column in X.columns.tolist():\n",
    "\n",
    "    if column == 'const':\n",
    "        continue\n",
    "    new_X = X.drop(column, axis=1)\n",
    "    new_X_train, new_X_test, new_y_train, new_y_test = train_test_split(new_X, y, test_size=0.2, random_state=0)\n",
    "    model2 = sm.OLS(new_y_train, new_X_train).fit()\n",
    "    new_Y_pred = model2.predict(new_X_test)\n",
    "    model2_MSE = metrics.mean_squared_error(new_y_test, new_Y_pred)\n",
    "    pvalues = model.pvalues.to_dict()\n",
    "    \n",
    "   \n",
    "    \n",
    "    if model2.rsquared_adj > model0_rsquared_adj:\n",
    "        print(f\"Column {column} is significant evaluating based on rsquared_adj\")\n",
    "       \n",
    "    if model2.rsquared > model0_rsquared:\n",
    "        print(f\"Column {column} is significant evaluating based on rsquared\")\n",
    "        \n",
    "    if model2_MSE < model0_MSE:\n",
    "        print(f\"Column {column} is not significant evaluating based on MSE\")\n",
    "        \n",
    "    \n",
    "    new_X = None\n",
    "    "
   ]
  },
  {
   "cell_type": "markdown",
   "id": "2bb87247",
   "metadata": {},
   "source": [
    "Based on the results above we can't drop any of the columns based on R-squared values because dropping any of them does not improve our R-squared values, however evaluating based on the MSE, all the columns are candidates for backward elimination. In the next section I am going to be dropping columns based on the MSE recursively until the model with least MSE is achieved.\n"
   ]
  },
  {
   "cell_type": "markdown",
   "id": "e095ff44",
   "metadata": {},
   "source": [
    "### Based on the Mean Squared Error"
   ]
  },
  {
   "cell_type": "code",
   "execution_count": 218,
   "id": "8b3dbdb1",
   "metadata": {},
   "outputs": [
    {
     "name": "stdout",
     "output_type": "stream",
     "text": [
      "                            OLS Regression Results                            \n",
      "==============================================================================\n",
      "Dep. Variable:                  price   R-squared:                       0.610\n",
      "Model:                            OLS   Adj. R-squared:                  0.601\n",
      "Method:                 Least Squares   F-statistic:                     66.46\n",
      "Date:                Wed, 14 Feb 2024   Prob (F-statistic):           1.61e-80\n",
      "Time:                        17:56:40   Log-Likelihood:                -6718.9\n",
      "No. Observations:                 436   AIC:                         1.346e+04\n",
      "Df Residuals:                     425   BIC:                         1.350e+04\n",
      "Df Model:                          10                                         \n",
      "Covariance Type:            nonrobust                                         \n",
      "===================================================================================\n",
      "                      coef    std err          t      P>|t|      [0.025      0.975]\n",
      "-----------------------------------------------------------------------------------\n",
      "const            2.918e+05   2.89e+05      1.008      0.314   -2.77e+05    8.61e+05\n",
      "bedrooms         2.126e+05    9.1e+04      2.338      0.020    3.39e+04    3.91e+05\n",
      "bathrooms        1.103e+06   1.32e+05      8.336      0.000    8.43e+05    1.36e+06\n",
      "stories          3.884e+05   7.97e+04      4.874      0.000    2.32e+05    5.45e+05\n",
      "mainroad          7.54e+05   1.79e+05      4.221      0.000    4.03e+05    1.11e+06\n",
      "guestroom        5.707e+05   1.66e+05      3.435      0.001    2.44e+05    8.97e+05\n",
      "basement         2.326e+05   1.42e+05      1.641      0.102    -4.6e+04    5.11e+05\n",
      "hotwaterheating  1.138e+06   3.09e+05      3.688      0.000    5.31e+05    1.74e+06\n",
      "airconditioning  1.059e+06   1.34e+05      7.914      0.000    7.96e+05    1.32e+06\n",
      "parking          3.965e+05   7.07e+04      5.609      0.000    2.58e+05    5.35e+05\n",
      "prefarea          9.77e+05   1.43e+05      6.849      0.000    6.97e+05    1.26e+06\n",
      "==============================================================================\n",
      "Omnibus:                       84.069   Durbin-Watson:                   2.067\n",
      "Prob(Omnibus):                  0.000   Jarque-Bera (JB):              211.754\n",
      "Skew:                           0.953   Prob(JB):                     1.04e-46\n",
      "Kurtosis:                       5.833   Cond. No.                         22.8\n",
      "==============================================================================\n",
      "\n",
      "Notes:\n",
      "[1] Standard Errors assume that the covariance matrix of the errors is correctly specified.\n"
     ]
    }
   ],
   "source": [
    "\n",
    "\"\"\"\n",
    "Helper function to conduct backward elimination. It recursively drops the column with the highest pvalue\n",
    "until the least possible MSE is achieved. \n",
    "\"\"\"\n",
    "\n",
    "def backwardElimination(df, column, MSE):\n",
    "    \n",
    "    new_X = df.drop(column, axis=1)\n",
    "    new_X_train, new_X_test, new_y_train, new_y_test = train_test_split(new_X, y, test_size=0.2, random_state=0)\n",
    "    model2 = sm.OLS(new_y_train, new_X_train).fit()\n",
    "    new_Y_pred = model2.predict(new_X_test)\n",
    "    model2_MSE = metrics.mean_squared_error(new_y_test, new_Y_pred)\n",
    "    \n",
    "    #getting the model pvalues and indexing them according their corresponding column \n",
    "    pvalues = model.pvalues.to_dict()\n",
    "    columns = list(pvalues.keys())\n",
    "    column_pvalues = list(pvalues.values())\n",
    "    largest_pvalue_column = columns[column_pvalues.index(max(column_pvalues))] # get the column with highest pvalue\n",
    "    \n",
    "    #Base case for the recursion\n",
    "    if not len(df.columns.tolist()) == 1:\n",
    "        return new_X, model2_MS, largest_pvalue_column, model2\n",
    "    \n",
    "    #recursive step \n",
    "    elif model2_MSE < MSE:\n",
    "        backwardElimination(new_X, largest_pvalue_column, MSE)\n",
    "    \n",
    "    else:\n",
    "        \n",
    "        return new_X, model2_MS, largest_pvalue_column, model2\n",
    "    \n",
    "prevMSE = model0_MSE\n",
    "\n",
    "\"\"\"\n",
    "This loop iterates over each column/attribute and calls Backward elimination which drops the column \n",
    "and evaluates the MSE and recursively drops column with the highest p_value until the least MSE is achieved. \n",
    "\"\"\"\n",
    "for column in X.columns.tolist():\n",
    "\n",
    "    if column == 'const':\n",
    "        continue\n",
    "    \n",
    "    new_X, mean_squared_error, largest_pvalue_column, model = backwardElimination(X, column, model0_MSE)\n",
    "    \n",
    "\n",
    "    if mean_squared_error < prevMSE:\n",
    "        prevMSE = mean_squared_error\n",
    "        best_model = model \n",
    "\n",
    "\n",
    "    \n",
    "    \n",
    "print(best_model.summary())"
   ]
  },
  {
   "cell_type": "markdown",
   "id": "7caecf51",
   "metadata": {},
   "source": [
    "# Conclusion "
   ]
  },
  {
   "cell_type": "markdown",
   "id": "a9a51e66",
   "metadata": {},
   "source": [
    "Based on my backward elimination which was prioritizing minimizing MSE, I believe this is the best model. Only the area model was dropped which doesn't make too much sense realistically speaking because area of a house should affect its price. I am not sure why the MSE would reduce when we drop the area column however comparing with the first model were all the columns are considered, this final model has a reduced r_squared and adj_rsquared values. Therefore based on those metrics all the columns of the dataset are relevant to house price and should all be factored in model training. \n",
    "\n",
    "\n"
   ]
  },
  {
   "cell_type": "code",
   "execution_count": null,
   "id": "c6c588cb",
   "metadata": {},
   "outputs": [],
   "source": []
  }
 ],
 "metadata": {
  "kernelspec": {
   "display_name": "Python 3 (ipykernel)",
   "language": "python",
   "name": "python3"
  },
  "language_info": {
   "codemirror_mode": {
    "name": "ipython",
    "version": 3
   },
   "file_extension": ".py",
   "mimetype": "text/x-python",
   "name": "python",
   "nbconvert_exporter": "python",
   "pygments_lexer": "ipython3",
   "version": "3.9.12"
  }
 },
 "nbformat": 4,
 "nbformat_minor": 5
}
