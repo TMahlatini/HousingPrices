{
 "cells": [
  {
   "cell_type": "code",
   "execution_count": 2,
   "id": "19bf0458",
   "metadata": {},
   "outputs": [],
   "source": [
    "import pandas as pd\n",
    "import statsmodels.api as sm\n",
    "import numpy as np\n",
    "import pandas as pd\n",
    "import matplotlib.pyplot as plt\n",
    "from sklearn import preprocessing"
   ]
  },
  {
   "cell_type": "code",
   "execution_count": 5,
   "id": "96a35085",
   "metadata": {},
   "outputs": [
    {
     "data": {
      "text/html": [
       "<div>\n",
       "<style scoped>\n",
       "    .dataframe tbody tr th:only-of-type {\n",
       "        vertical-align: middle;\n",
       "    }\n",
       "\n",
       "    .dataframe tbody tr th {\n",
       "        vertical-align: top;\n",
       "    }\n",
       "\n",
       "    .dataframe thead th {\n",
       "        text-align: right;\n",
       "    }\n",
       "</style>\n",
       "<table border=\"1\" class=\"dataframe\">\n",
       "  <thead>\n",
       "    <tr style=\"text-align: right;\">\n",
       "      <th></th>\n",
       "      <th>R&amp;D Spend</th>\n",
       "      <th>Administration</th>\n",
       "      <th>Marketing Spend</th>\n",
       "      <th>State</th>\n",
       "      <th>Profit</th>\n",
       "    </tr>\n",
       "  </thead>\n",
       "  <tbody>\n",
       "    <tr>\n",
       "      <th>0</th>\n",
       "      <td>165349.20</td>\n",
       "      <td>136897.80</td>\n",
       "      <td>471784.10</td>\n",
       "      <td>2</td>\n",
       "      <td>192261.83</td>\n",
       "    </tr>\n",
       "    <tr>\n",
       "      <th>1</th>\n",
       "      <td>162597.70</td>\n",
       "      <td>151377.59</td>\n",
       "      <td>443898.53</td>\n",
       "      <td>0</td>\n",
       "      <td>191792.06</td>\n",
       "    </tr>\n",
       "    <tr>\n",
       "      <th>2</th>\n",
       "      <td>153441.51</td>\n",
       "      <td>101145.55</td>\n",
       "      <td>407934.54</td>\n",
       "      <td>1</td>\n",
       "      <td>191050.39</td>\n",
       "    </tr>\n",
       "  </tbody>\n",
       "</table>\n",
       "</div>"
      ],
      "text/plain": [
       "   R&D Spend  Administration  Marketing Spend  State     Profit\n",
       "0  165349.20       136897.80        471784.10      2  192261.83\n",
       "1  162597.70       151377.59        443898.53      0  191792.06\n",
       "2  153441.51       101145.55        407934.54      1  191050.39"
      ]
     },
     "execution_count": 5,
     "metadata": {},
     "output_type": "execute_result"
    }
   ],
   "source": [
    "#\"\"\"2. Data Acquistion\"\"\"\n",
    "dataset = pd.read_csv('50_Startups.csv')\n",
    "\n",
    "#\"\"\"3.  Creating Data Frames\n",
    "# Creating Data Frames\n",
    "\n",
    "\n",
    "#dataset.apply(preprocessing.LabelEncoder().fit_transform(dataset[\"State\"]))\n",
    "\n",
    "from sklearn.preprocessing import LabelEncoder\n",
    "labelencoder = LabelEncoder()\n",
    "dataset[\"State\"]=labelencoder.fit_transform(dataset.State.values)\n",
    "dataset.head(3)"
   ]
  },
  {
   "cell_type": "code",
   "execution_count": null,
   "id": "793c3ba4",
   "metadata": {},
   "outputs": [],
   "source": [
    "X = dataset.drop(\"Profit\", axis=1)\n",
    "y = dataset[\"Profit\"]"
   ]
  },
  {
   "cell_type": "code",
   "execution_count": 3,
   "id": "f9bc1c93",
   "metadata": {},
   "outputs": [],
   "source": [
    "X = sm.add_constant(dataset[['R&D Spend', 'Administration', 'Marketing Spend','State']])\n",
    "\n",
    "X = pd.get_dummies(X, columns=[\"State\"], drop_first=True)"
   ]
  },
  {
   "cell_type": "code",
   "execution_count": 4,
   "id": "22039083",
   "metadata": {},
   "outputs": [],
   "source": [
    "\"\"\"6. Dataset Split\"\"\"\n",
    "#train test split\n",
    "from sklearn.model_selection import train_test_split\n",
    "X_train, X_test, Y_train, Y_test = train_test_split(X,y,test_size= 0.2, random_state = 0)"
   ]
  },
  {
   "cell_type": "code",
   "execution_count": 5,
   "id": "c987f256",
   "metadata": {},
   "outputs": [
    {
     "name": "stdout",
     "output_type": "stream",
     "text": [
      "                            OLS Regression Results                            \n",
      "==============================================================================\n",
      "Dep. Variable:                 Profit   R-squared:                       0.950\n",
      "Model:                            OLS   Adj. R-squared:                  0.943\n",
      "Method:                 Least Squares   F-statistic:                     129.7\n",
      "Date:                Mon, 05 Feb 2024   Prob (F-statistic):           3.91e-21\n",
      "Time:                        13:44:25   Log-Likelihood:                -421.10\n",
      "No. Observations:                  40   AIC:                             854.2\n",
      "Df Residuals:                      34   BIC:                             864.3\n",
      "Df Model:                           5                                         \n",
      "Covariance Type:            nonrobust                                         \n",
      "===================================================================================\n",
      "                      coef    std err          t      P>|t|      [0.025      0.975]\n",
      "-----------------------------------------------------------------------------------\n",
      "const            4.255e+04   8358.538      5.091      0.000    2.56e+04    5.95e+04\n",
      "R&D Spend           0.7735      0.055     14.025      0.000       0.661       0.886\n",
      "Administration      0.0329      0.066      0.495      0.624      -0.102       0.168\n",
      "Marketing Spend     0.0366      0.019      1.884      0.068      -0.003       0.076\n",
      "State_1          -959.2842   4038.108     -0.238      0.814   -9165.706    7247.138\n",
      "State_2           699.3691   3661.563      0.191      0.850   -6741.822    8140.560\n",
      "==============================================================================\n",
      "Omnibus:                       15.823   Durbin-Watson:                   2.468\n",
      "Prob(Omnibus):                  0.000   Jarque-Bera (JB):               23.231\n",
      "Skew:                          -1.094   Prob(JB):                     9.03e-06\n",
      "Kurtosis:                       6.025   Cond. No.                     1.49e+06\n",
      "==============================================================================\n",
      "\n",
      "Notes:\n",
      "[1] Standard Errors assume that the covariance matrix of the errors is correctly specified.\n",
      "[2] The condition number is large, 1.49e+06. This might indicate that there are\n",
      "strong multicollinearity or other numerical problems.\n"
     ]
    }
   ],
   "source": [
    "# Fit the multiple linear regression model\n",
    "model = sm.OLS(Y_train, X_train).fit()\n",
    "\n",
    "# Print the summary which includes p-values for each coefficient\n",
    "print(model.summary())\n"
   ]
  },
  {
   "cell_type": "code",
   "execution_count": 6,
   "id": "aa59f81d",
   "metadata": {},
   "outputs": [],
   "source": [
    "Y_pred = model.predict(X_test)"
   ]
  },
  {
   "cell_type": "code",
   "execution_count": 7,
   "id": "59d42fd2",
   "metadata": {},
   "outputs": [
    {
     "name": "stdout",
     "output_type": "stream",
     "text": [
      "Mean Absolute Error\n",
      "7514.293659513193\n",
      "Mean Square Error\n",
      "83502864.02650075\n",
      "Root Mean Square Error\n",
      "9137.990152462453\n"
     ]
    }
   ],
   "source": [
    "from sklearn import metrics\n",
    "# Evaluating the model and printing the value of MAE\n",
    "print('Mean Absolute Error')\n",
    "print(metrics.mean_absolute_error(Y_test, Y_pred))\n",
    "# Evaluating the model and printing the value of MSE\n",
    "print('Mean Square Error')\n",
    "print(metrics.mean_squared_error(Y_test, Y_pred))\n",
    "# Evaluating the model and printing the value of RMSE\n",
    "print('Root Mean Square Error')\n",
    "print(np.sqrt(metrics.mean_squared_error(Y_test, Y_pred)))\n"
   ]
  },
  {
   "cell_type": "code",
   "execution_count": 8,
   "id": "864ffe94",
   "metadata": {},
   "outputs": [
    {
     "data": {
      "image/png": "[encoded data removed]",
      "text/plain": [
       "<Figure size 864x576 with 4 Axes>"
      ]
     },
     "metadata": {
      "needs_background": "light"
     },
     "output_type": "display_data"
    }
   ],
   "source": [
    "# Plotting each attribute against Profit\n",
    "fig, axes = plt.subplots(nrows=2, ncols=2, figsize=(12, 8))\n",
    "\n",
    "# R&D Spend vs. Profit\n",
    "axes[0, 0].scatter(X_train['R&D Spend'], Y_train, color='blue')\n",
    "axes[0, 0].set_title('R&D Spend vs. Profit')\n",
    "axes[0, 0].set_xlabel('R&D Spend')\n",
    "axes[0, 0].set_ylabel('Profit')\n",
    "\n",
    "# Administration vs. Profit\n",
    "axes[0, 1].scatter(X_train['Administration'], Y_train, color='red')\n",
    "axes[0, 1].set_title('Administration vs. Profit')\n",
    "axes[0, 1].set_xlabel('Administration')\n",
    "axes[0, 1].set_ylabel('Profit')\n",
    "\n",
    "# Marketing Spend vs. Profit\n",
    "axes[1, 0].scatter(X_train['Marketing Spend'], Y_train, color='green')\n",
    "axes[1, 0].set_title('Marketing Spend vs. Profit')\n",
    "axes[1, 0].set_xlabel('Marketing Spend')\n",
    "axes[1, 0].set_ylabel('Profit')\n",
    "\n",
    "# State vs. Profit\n",
    "axes[1, 1].scatter(X_train['State_2'], Y_train, color='purple')\n",
    "axes[1, 1].set_title('State vs. Profit')\n",
    "axes[1, 1].set_xlabel('State')\n",
    "axes[1, 1].set_ylabel('Profit')\n",
    "\n",
    "plt.tight_layout()\n",
    "plt.show()\n"
   ]
  },
  {
   "cell_type": "code",
   "execution_count": 10,
   "id": "3afabd37",
   "metadata": {},
   "outputs": [],
   "source": [
    "##Without State---------------------------------\n",
    "\n",
    "import pandas as pd\n",
    "import statsmodels.api as sm\n",
    "import numpy as np\n",
    "import pandas as pd\n",
    "import matplotlib.pyplot as plt\n",
    "from sklearn import preprocessing\n",
    "\n",
    "#\"\"\"2. Data Acquistion\"\"\"\n",
    "dataset = pd.read_csv('50_Startups.csv')\n",
    "\n",
    "X = dataset.drop(\"Profit\", axis=1)\n",
    "y = dataset[\"Profit\"]\n",
    "\n",
    "\n",
    "# Add a constant term for the intercept in the regression model\n",
    "X = sm.add_constant(dataset[['R&D Spend', 'Administration', 'Marketing Spend']])\n"
   ]
  },
  {
   "cell_type": "code",
   "execution_count": 11,
   "id": "ad64ed84",
   "metadata": {},
   "outputs": [
    {
     "name": "stdout",
     "output_type": "stream",
     "text": [
      "                            OLS Regression Results                            \n",
      "==============================================================================\n",
      "Dep. Variable:                 Profit   R-squared:                       0.950\n",
      "Model:                            OLS   Adj. R-squared:                  0.946\n",
      "Method:                 Least Squares   F-statistic:                     227.8\n",
      "Date:                Mon, 05 Feb 2024   Prob (F-statistic):           1.85e-23\n",
      "Time:                        13:46:06   Log-Likelihood:                -421.19\n",
      "No. Observations:                  40   AIC:                             850.4\n",
      "Df Residuals:                      36   BIC:                             857.1\n",
      "Df Model:                           3                                         \n",
      "Covariance Type:            nonrobust                                         \n",
      "===================================================================================\n",
      "                      coef    std err          t      P>|t|      [0.025      0.975]\n",
      "-----------------------------------------------------------------------------------\n",
      "const            4.299e+04   7919.773      5.428      0.000    2.69e+04    5.91e+04\n",
      "R&D Spend           0.7788      0.052     15.003      0.000       0.674       0.884\n",
      "Administration      0.0294      0.064      0.458      0.650      -0.101       0.160\n",
      "Marketing Spend     0.0347      0.018      1.896      0.066      -0.002       0.072\n",
      "==============================================================================\n",
      "Omnibus:                       15.557   Durbin-Watson:                   2.481\n",
      "Prob(Omnibus):                  0.000   Jarque-Bera (JB):               22.539\n",
      "Skew:                          -1.081   Prob(JB):                     1.28e-05\n",
      "Kurtosis:                       5.974   Cond. No.                     1.43e+06\n",
      "==============================================================================\n",
      "\n",
      "Notes:\n",
      "[1] Standard Errors assume that the covariance matrix of the errors is correctly specified.\n",
      "[2] The condition number is large, 1.43e+06. This might indicate that there are\n",
      "strong multicollinearity or other numerical problems.\n"
     ]
    }
   ],
   "source": [
    "\"\"\"6. Dataset Split\"\"\"\n",
    "#train test split\n",
    "from sklearn.model_selection import train_test_split\n",
    "X_train, X_test, Y_train, Y_test = train_test_split(X,y,test_size= 0.2, random_state = 0)\n",
    "\n",
    "\n",
    "\n",
    "# Fit the multiple linear regression model\n",
    "model = sm.OLS(Y_train, X_train).fit()\n",
    "\n",
    "# Print the summary which includes p-values for each coefficient\n",
    "print(model.summary())\n"
   ]
  },
  {
   "cell_type": "code",
   "execution_count": 12,
   "id": "897f3347",
   "metadata": {},
   "outputs": [],
   "source": [
    "Y_pred = model.predict(X_test)"
   ]
  },
  {
   "cell_type": "code",
   "execution_count": 13,
   "id": "0caed7d2",
   "metadata": {},
   "outputs": [
    {
     "name": "stdout",
     "output_type": "stream",
     "text": [
      "Mean Absolute Error\n",
      "7320.441614848122\n",
      "Mean Square Error\n",
      "77506468.16885431\n",
      "Root Mean Square Error\n",
      "8803.775790469355\n"
     ]
    }
   ],
   "source": [
    "from sklearn import metrics\n",
    "# Evaluating the model and printing the value of MAE\n",
    "print('Mean Absolute Error')\n",
    "print(metrics.mean_absolute_error(Y_test, Y_pred))\n",
    "# Evaluating the model and printing the value of MSE\n",
    "print('Mean Square Error')\n",
    "print(metrics.mean_squared_error(Y_test, Y_pred))\n",
    "# Evaluating the model and printing the value of RMSE\n",
    "print('Root Mean Square Error')\n",
    "print(np.sqrt(metrics.mean_squared_error(Y_test, Y_pred)))"
   ]
  },
  {
   "cell_type": "code",
   "execution_count": 14,
   "id": "67f71fdd",
   "metadata": {},
   "outputs": [],
   "source": [
    "#Without Administration ---------------------------------\n",
    "\n",
    "import pandas as pd\n",
    "import statsmodels.api as sm\n",
    "import numpy as np\n",
    "import pandas as pd\n",
    "import matplotlib.pyplot as plt\n",
    "from sklearn import preprocessing\n",
    "\n",
    "#\"\"\"2. Data Acquistion\"\"\"\n",
    "dataset = pd.read_csv('50_Startups.csv')\n",
    "\n",
    "X = dataset.drop(\"Profit\", axis=1)\n",
    "y = dataset[\"Profit\"]\n",
    "\n",
    "\n",
    "# Add a constant term for the intercept in the regression model\n",
    "X = sm.add_constant(dataset[['R&D Spend', 'Marketing Spend']])\n"
   ]
  },
  {
   "cell_type": "code",
   "execution_count": 15,
   "id": "e858ebe4",
   "metadata": {},
   "outputs": [
    {
     "name": "stdout",
     "output_type": "stream",
     "text": [
      "                            OLS Regression Results                            \n",
      "==============================================================================\n",
      "Dep. Variable:                 Profit   R-squared:                       0.950\n",
      "Model:                            OLS   Adj. R-squared:                  0.947\n",
      "Method:                 Least Squares   F-statistic:                     349.0\n",
      "Date:                Mon, 05 Feb 2024   Prob (F-statistic):           9.65e-25\n",
      "Time:                        13:47:08   Log-Likelihood:                -421.30\n",
      "No. Observations:                  40   AIC:                             848.6\n",
      "Df Residuals:                      37   BIC:                             853.7\n",
      "Df Model:                           2                                         \n",
      "Covariance Type:            nonrobust                                         \n",
      "===================================================================================\n",
      "                      coef    std err          t      P>|t|      [0.025      0.975]\n",
      "-----------------------------------------------------------------------------------\n",
      "const            4.635e+04   2971.236     15.598      0.000    4.03e+04    5.24e+04\n",
      "R&D Spend           0.7886      0.047     16.846      0.000       0.694       0.883\n",
      "Marketing Spend     0.0326      0.018      1.860      0.071      -0.003       0.068\n",
      "==============================================================================\n",
      "Omnibus:                       14.666   Durbin-Watson:                   2.518\n",
      "Prob(Omnibus):                  0.001   Jarque-Bera (JB):               20.582\n",
      "Skew:                          -1.030   Prob(JB):                     3.39e-05\n",
      "Kurtosis:                       5.847   Cond. No.                     4.97e+05\n",
      "==============================================================================\n",
      "\n",
      "Notes:\n",
      "[1] Standard Errors assume that the covariance matrix of the errors is correctly specified.\n",
      "[2] The condition number is large, 4.97e+05. This might indicate that there are\n",
      "strong multicollinearity or other numerical problems.\n"
     ]
    }
   ],
   "source": [
    "\n",
    "\"\"\"6. Dataset Split\"\"\"\n",
    "#train test split\n",
    "from sklearn.model_selection import train_test_split\n",
    "X_train, X_test, Y_train, Y_test = train_test_split(X,y,test_size= 0.2, random_state = 0)\n",
    "\n",
    "\n",
    "\n",
    "# Fit the multiple linear regression model\n",
    "model = sm.OLS(Y_train, X_train).fit()\n",
    "\n",
    "# Print the summary which includes p-values for each coefficient\n",
    "print(model.summary())\n"
   ]
  },
  {
   "cell_type": "code",
   "execution_count": 16,
   "id": "a283f864",
   "metadata": {},
   "outputs": [
    {
     "name": "stdout",
     "output_type": "stream",
     "text": [
      "Mean Absolute Error\n",
      "6886.594588246522\n",
      "Mean Square Error\n",
      "67220275.37568155\n",
      "Root Mean Square Error\n",
      "8198.79719078851\n"
     ]
    }
   ],
   "source": [
    "Y_pred = model.predict(X_test)\n",
    "\n",
    "from sklearn import metrics\n",
    "# Evaluating the model and printing the value of MAE\n",
    "print('Mean Absolute Error')\n",
    "print(metrics.mean_absolute_error(Y_test, Y_pred))\n",
    "# Evaluating the model and printing the value of MSE\n",
    "print('Mean Square Error')\n",
    "print(metrics.mean_squared_error(Y_test, Y_pred))\n",
    "# Evaluating the model and printing the value of RMSE\n",
    "print('Root Mean Square Error')\n",
    "print(np.sqrt(metrics.mean_squared_error(Y_test, Y_pred)))\n"
   ]
  },
  {
   "cell_type": "code",
   "execution_count": 18,
   "id": "4c84b970",
   "metadata": {},
   "outputs": [],
   "source": [
    "#Without Marketing Spend  ---------------------------------\n",
    "\n",
    "import pandas as pd\n",
    "import statsmodels.api as sm\n",
    "import numpy as np\n",
    "import pandas as pd\n",
    "import matplotlib.pyplot as plt\n",
    "from sklearn import preprocessing\n",
    "\n",
    "#\"\"\"2. Data Acquistion\"\"\"\n",
    "dataset = pd.read_csv('50_Startups.csv')\n",
    "\n",
    "X = dataset.drop(\"Profit\", axis=1)\n",
    "y = dataset[\"Profit\"]\n",
    "\n",
    "\n",
    "# Add a constant term for the intercept in the regression model\n",
    "X = sm.add_constant(dataset[['R&D Spend']])\n"
   ]
  },
  {
   "cell_type": "code",
   "execution_count": 19,
   "id": "1019f94a",
   "metadata": {},
   "outputs": [
    {
     "name": "stdout",
     "output_type": "stream",
     "text": [
      "                            OLS Regression Results                            \n",
      "==============================================================================\n",
      "Dep. Variable:                 Profit   R-squared:                       0.945\n",
      "Model:                            OLS   Adj. R-squared:                  0.944\n",
      "Method:                 Least Squares   F-statistic:                     652.4\n",
      "Date:                Mon, 05 Feb 2024   Prob (F-statistic):           1.56e-25\n",
      "Time:                        13:48:01   Log-Likelihood:                -423.09\n",
      "No. Observations:                  40   AIC:                             850.2\n",
      "Df Residuals:                      38   BIC:                             853.6\n",
      "Df Model:                           1                                         \n",
      "Covariance Type:            nonrobust                                         \n",
      "==============================================================================\n",
      "                 coef    std err          t      P>|t|      [0.025      0.975]\n",
      "------------------------------------------------------------------------------\n",
      "const       4.842e+04   2842.717     17.032      0.000    4.27e+04    5.42e+04\n",
      "R&D Spend      0.8516      0.033     25.542      0.000       0.784       0.919\n",
      "==============================================================================\n",
      "Omnibus:                       13.132   Durbin-Watson:                   2.325\n",
      "Prob(Omnibus):                  0.001   Jarque-Bera (JB):               16.254\n",
      "Skew:                          -0.991   Prob(JB):                     0.000295\n",
      "Kurtosis:                       5.413   Cond. No.                     1.57e+05\n",
      "==============================================================================\n",
      "\n",
      "Notes:\n",
      "[1] Standard Errors assume that the covariance matrix of the errors is correctly specified.\n",
      "[2] The condition number is large, 1.57e+05. This might indicate that there are\n",
      "strong multicollinearity or other numerical problems.\n"
     ]
    }
   ],
   "source": [
    "\"\"\"6. Dataset Split\"\"\"\n",
    "#train test split\n",
    "from sklearn.model_selection import train_test_split\n",
    "X_train, X_test, Y_train, Y_test = train_test_split(X,y,test_size= 0.2, random_state = 0)\n",
    "\n",
    "\n",
    "\n",
    "# Fit the multiple linear regression model\n",
    "model = sm.OLS(Y_train, X_train).fit()\n",
    "\n",
    "# Print the summary which includes p-values for each coefficient\n",
    "print(model.summary())"
   ]
  },
  {
   "cell_type": "code",
   "execution_count": 20,
   "id": "5f310a4a",
   "metadata": {},
   "outputs": [
    {
     "name": "stdout",
     "output_type": "stream",
     "text": [
      "Mean Absolute Error\n",
      "6772.453280477901\n",
      "Mean Square Error\n",
      "68473440.71905914\n",
      "Root Mean Square Error\n",
      "8274.86801822598\n"
     ]
    }
   ],
   "source": [
    "\n",
    "Y_pred = model.predict(X_test)\n",
    "\n",
    "from sklearn import metrics\n",
    "# Evaluating the model and printing the value of MAE\n",
    "print('Mean Absolute Error')\n",
    "print(metrics.mean_absolute_error(Y_test, Y_pred))\n",
    "# Evaluating the model and printing the value of MSE\n",
    "print('Mean Square Error')\n",
    "print(metrics.mean_squared_error(Y_test, Y_pred))\n",
    "# Evaluating the model and printing the value of RMSE\n",
    "print('Root Mean Square Error')\n",
    "print(np.sqrt(metrics.mean_squared_error(Y_test, Y_pred)))"
   ]
  },
  {
   "cell_type": "code",
   "execution_count": 24,
   "id": "4220642c",
   "metadata": {},
   "outputs": [
    {
     "name": "stdout",
     "output_type": "stream",
     "text": [
      "const              7.489298e-18\n",
      "R&D Spend          6.120366e-19\n",
      "Marketing Spend    7.084678e-02\n",
      "dtype: float64\n"
     ]
    }
   ],
   "source": [
    "#Best Model With 'R&D Spend', 'Marketing Spend' ---------------------------------\n",
    "\n",
    "import pandas as pd\n",
    "import statsmodels.api as sm\n",
    "import numpy as np\n",
    "import pandas as pd\n",
    "import matplotlib.pyplot as plt\n",
    "from sklearn import preprocessing\n",
    "\n",
    "#\"\"\"2. Data Acquistion\"\"\"\n",
    "dataset = pd.read_csv('50_Startups.csv')\n",
    "\n",
    "X = dataset.drop(\"Profit\", axis=1)\n",
    "y = dataset[\"Profit\"]\n",
    "\n",
    "\n",
    "# Add a constant term for the intercept in the regression model\n",
    "X = sm.add_constant(dataset[['R&D Spend', 'Marketing Spend']])\n",
    "\n",
    "\n",
    "\n",
    "\n",
    "\"\"\"6. Dataset Split\"\"\"\n",
    "#train test split\n",
    "from sklearn.model_selection import train_test_split\n",
    "X_train, X_test, Y_train, Y_test = train_test_split(X,y,test_size= 0.2, random_state = 0)\n",
    "# Fit the multiple linear regression model\n",
    "model = sm.OLS(Y_train, X_train).fit()\n",
    "\n",
    "# Print the summary which includes p-values for each coefficient\n",
    "#print(model.summary())\n",
    "p_values = model.pvalues\n",
    "print(p_values)"
   ]
  },
  {
   "cell_type": "code",
   "execution_count": 23,
   "id": "f778a105",
   "metadata": {},
   "outputs": [
    {
     "name": "stdout",
     "output_type": "stream",
     "text": [
      "Mean Absolute Error\n",
      "6886.594588246522\n",
      "Mean Square Error\n",
      "67220275.37568155\n",
      "Root Mean Square Error\n",
      "8198.79719078851\n"
     ]
    }
   ],
   "source": [
    "Y_pred = model.predict(X_test)\n",
    "\n",
    "from sklearn import metrics\n",
    "# Evaluating the model and printing the value of MAE\n",
    "print('Mean Absolute Error')\n",
    "print(metrics.mean_absolute_error(Y_test, Y_pred))\n",
    "# Evaluating the model and printing the value of MSE\n",
    "print('Mean Square Error')\n",
    "print(metrics.mean_squared_error(Y_test, Y_pred))\n",
    "# Evaluating the model and printing the value of RMSE\n",
    "print('Root Mean Square Error')\n",
    "print(np.sqrt(metrics.mean_squared_error(Y_test, Y_pred)))\n",
    "\n",
    "\n",
    "\n"
   ]
  },
  {
   "cell_type": "code",
   "execution_count": null,
   "id": "a62a00ef",
   "metadata": {},
   "outputs": [],
   "source": []
  }
 ],
 "metadata": {
  "kernelspec": {
   "display_name": "Python 3 (ipykernel)",
   "language": "python",
   "name": "python3"
  },
  "language_info": {
   "codemirror_mode": {
    "name": "ipython",
    "version": 3
   },
   "file_extension": ".py",
   "mimetype": "text/x-python",
   "name": "python",
   "nbconvert_exporter": "python",
   "pygments_lexer": "ipython3",
   "version": "3.9.12"
  }
 },
 "nbformat": 4,
 "nbformat_minor": 5
}
